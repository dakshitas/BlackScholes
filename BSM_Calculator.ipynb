{
  "nbformat": 4,
  "nbformat_minor": 0,
  "metadata": {
    "colab": {
      "provenance": [],
      "authorship_tag": "ABX9TyM4d8IREfIHi44NJs4RqtKD",
      "include_colab_link": true
    },
    "kernelspec": {
      "name": "python3",
      "display_name": "Python 3"
    },
    "language_info": {
      "name": "python"
    },
    "widgets": {
      "application/vnd.jupyter.widget-state+json": {
        "6304716bd7184fe4bc5dc73d26b4c842": {
          "model_module": "@jupyter-widgets/controls",
          "model_name": "ComboboxModel",
          "model_module_version": "1.5.0",
          "state": {
            "_dom_classes": [],
            "_model_module": "@jupyter-widgets/controls",
            "_model_module_version": "1.5.0",
            "_model_name": "ComboboxModel",
            "_view_count": null,
            "_view_module": "@jupyter-widgets/controls",
            "_view_module_version": "1.5.0",
            "_view_name": "ComboboxView",
            "continuous_update": true,
            "description": "Ticker:",
            "description_tooltip": null,
            "disabled": false,
            "ensure_option": false,
            "layout": "IPY_MODEL_01ed2e6a5ec54f70b884a7538b0ac346",
            "options": [
              "AAPL",
              "MSFT",
              "JNJ",
              "GOOGL",
              "TSLA"
            ],
            "placeholder": "Enter ticker",
            "style": "IPY_MODEL_072a68e89a7d41b7b2bea6b8203d8c64",
            "value": "TSLA"
          }
        },
        "01ed2e6a5ec54f70b884a7538b0ac346": {
          "model_module": "@jupyter-widgets/base",
          "model_name": "LayoutModel",
          "model_module_version": "1.2.0",
          "state": {
            "_model_module": "@jupyter-widgets/base",
            "_model_module_version": "1.2.0",
            "_model_name": "LayoutModel",
            "_view_count": null,
            "_view_module": "@jupyter-widgets/base",
            "_view_module_version": "1.2.0",
            "_view_name": "LayoutView",
            "align_content": null,
            "align_items": null,
            "align_self": null,
            "border": null,
            "bottom": null,
            "display": null,
            "flex": null,
            "flex_flow": null,
            "grid_area": null,
            "grid_auto_columns": null,
            "grid_auto_flow": null,
            "grid_auto_rows": null,
            "grid_column": null,
            "grid_gap": null,
            "grid_row": null,
            "grid_template_areas": null,
            "grid_template_columns": null,
            "grid_template_rows": null,
            "height": null,
            "justify_content": null,
            "justify_items": null,
            "left": null,
            "margin": null,
            "max_height": null,
            "max_width": null,
            "min_height": null,
            "min_width": null,
            "object_fit": null,
            "object_position": null,
            "order": null,
            "overflow": null,
            "overflow_x": null,
            "overflow_y": null,
            "padding": null,
            "right": null,
            "top": null,
            "visibility": null,
            "width": null
          }
        },
        "072a68e89a7d41b7b2bea6b8203d8c64": {
          "model_module": "@jupyter-widgets/controls",
          "model_name": "DescriptionStyleModel",
          "model_module_version": "1.5.0",
          "state": {
            "_model_module": "@jupyter-widgets/controls",
            "_model_module_version": "1.5.0",
            "_model_name": "DescriptionStyleModel",
            "_view_count": null,
            "_view_module": "@jupyter-widgets/base",
            "_view_module_version": "1.2.0",
            "_view_name": "StyleView",
            "description_width": ""
          }
        },
        "14567d105e484d6795129c66f70f2f4c": {
          "model_module": "@jupyter-widgets/controls",
          "model_name": "DatePickerModel",
          "model_module_version": "1.5.0",
          "state": {
            "_dom_classes": [],
            "_model_module": "@jupyter-widgets/controls",
            "_model_module_version": "1.5.0",
            "_model_name": "DatePickerModel",
            "_view_count": null,
            "_view_module": "@jupyter-widgets/controls",
            "_view_module_version": "1.5.0",
            "_view_name": "DatePickerView",
            "description": "Maturity:",
            "description_tooltip": null,
            "disabled": false,
            "layout": "IPY_MODEL_76745c9b26ba486c8912d773a54a606b",
            "style": "IPY_MODEL_3b81a2d0287648f5b793beb10f88a43d",
            "value": {
              "year": 2025,
              "month": 2,
              "date": 20
            }
          }
        },
        "76745c9b26ba486c8912d773a54a606b": {
          "model_module": "@jupyter-widgets/base",
          "model_name": "LayoutModel",
          "model_module_version": "1.2.0",
          "state": {
            "_model_module": "@jupyter-widgets/base",
            "_model_module_version": "1.2.0",
            "_model_name": "LayoutModel",
            "_view_count": null,
            "_view_module": "@jupyter-widgets/base",
            "_view_module_version": "1.2.0",
            "_view_name": "LayoutView",
            "align_content": null,
            "align_items": null,
            "align_self": null,
            "border": null,
            "bottom": null,
            "display": null,
            "flex": null,
            "flex_flow": null,
            "grid_area": null,
            "grid_auto_columns": null,
            "grid_auto_flow": null,
            "grid_auto_rows": null,
            "grid_column": null,
            "grid_gap": null,
            "grid_row": null,
            "grid_template_areas": null,
            "grid_template_columns": null,
            "grid_template_rows": null,
            "height": null,
            "justify_content": null,
            "justify_items": null,
            "left": null,
            "margin": null,
            "max_height": null,
            "max_width": null,
            "min_height": null,
            "min_width": null,
            "object_fit": null,
            "object_position": null,
            "order": null,
            "overflow": null,
            "overflow_x": null,
            "overflow_y": null,
            "padding": null,
            "right": null,
            "top": null,
            "visibility": null,
            "width": null
          }
        },
        "3b81a2d0287648f5b793beb10f88a43d": {
          "model_module": "@jupyter-widgets/controls",
          "model_name": "DescriptionStyleModel",
          "model_module_version": "1.5.0",
          "state": {
            "_model_module": "@jupyter-widgets/controls",
            "_model_module_version": "1.5.0",
            "_model_name": "DescriptionStyleModel",
            "_view_count": null,
            "_view_module": "@jupyter-widgets/base",
            "_view_module_version": "1.2.0",
            "_view_name": "StyleView",
            "description_width": ""
          }
        },
        "1c74eb5111d444578d541210edf954dd": {
          "model_module": "@jupyter-widgets/controls",
          "model_name": "FloatTextModel",
          "model_module_version": "1.5.0",
          "state": {
            "_dom_classes": [],
            "_model_module": "@jupyter-widgets/controls",
            "_model_module_version": "1.5.0",
            "_model_name": "FloatTextModel",
            "_view_count": null,
            "_view_module": "@jupyter-widgets/controls",
            "_view_module_version": "1.5.0",
            "_view_name": "FloatTextView",
            "continuous_update": false,
            "description": "Strike Price:",
            "description_tooltip": null,
            "disabled": false,
            "layout": "IPY_MODEL_91a462d183d945319c41f6bf0d32740c",
            "step": null,
            "style": "IPY_MODEL_e93fbd732db14ad0ab249a1c30500122",
            "value": 250
          }
        },
        "91a462d183d945319c41f6bf0d32740c": {
          "model_module": "@jupyter-widgets/base",
          "model_name": "LayoutModel",
          "model_module_version": "1.2.0",
          "state": {
            "_model_module": "@jupyter-widgets/base",
            "_model_module_version": "1.2.0",
            "_model_name": "LayoutModel",
            "_view_count": null,
            "_view_module": "@jupyter-widgets/base",
            "_view_module_version": "1.2.0",
            "_view_name": "LayoutView",
            "align_content": null,
            "align_items": null,
            "align_self": null,
            "border": null,
            "bottom": null,
            "display": null,
            "flex": null,
            "flex_flow": null,
            "grid_area": null,
            "grid_auto_columns": null,
            "grid_auto_flow": null,
            "grid_auto_rows": null,
            "grid_column": null,
            "grid_gap": null,
            "grid_row": null,
            "grid_template_areas": null,
            "grid_template_columns": null,
            "grid_template_rows": null,
            "height": null,
            "justify_content": null,
            "justify_items": null,
            "left": null,
            "margin": null,
            "max_height": null,
            "max_width": null,
            "min_height": null,
            "min_width": null,
            "object_fit": null,
            "object_position": null,
            "order": null,
            "overflow": null,
            "overflow_x": null,
            "overflow_y": null,
            "padding": null,
            "right": null,
            "top": null,
            "visibility": null,
            "width": null
          }
        },
        "e93fbd732db14ad0ab249a1c30500122": {
          "model_module": "@jupyter-widgets/controls",
          "model_name": "DescriptionStyleModel",
          "model_module_version": "1.5.0",
          "state": {
            "_model_module": "@jupyter-widgets/controls",
            "_model_module_version": "1.5.0",
            "_model_name": "DescriptionStyleModel",
            "_view_count": null,
            "_view_module": "@jupyter-widgets/base",
            "_view_module_version": "1.2.0",
            "_view_name": "StyleView",
            "description_width": ""
          }
        },
        "ef7c628e2c7d4a6bb7bc79777de94c23": {
          "model_module": "@jupyter-widgets/controls",
          "model_name": "RadioButtonsModel",
          "model_module_version": "1.5.0",
          "state": {
            "_dom_classes": [],
            "_model_module": "@jupyter-widgets/controls",
            "_model_module_version": "1.5.0",
            "_model_name": "RadioButtonsModel",
            "_options_labels": [
              "call",
              "put"
            ],
            "_view_count": null,
            "_view_module": "@jupyter-widgets/controls",
            "_view_module_version": "1.5.0",
            "_view_name": "RadioButtonsView",
            "description": "Option Type:",
            "description_tooltip": null,
            "disabled": false,
            "index": 0,
            "layout": "IPY_MODEL_998c26d392424a849da4e04657454b68",
            "style": "IPY_MODEL_849b552d51bb4a2ea21fcf60a0dc4bee"
          }
        },
        "998c26d392424a849da4e04657454b68": {
          "model_module": "@jupyter-widgets/base",
          "model_name": "LayoutModel",
          "model_module_version": "1.2.0",
          "state": {
            "_model_module": "@jupyter-widgets/base",
            "_model_module_version": "1.2.0",
            "_model_name": "LayoutModel",
            "_view_count": null,
            "_view_module": "@jupyter-widgets/base",
            "_view_module_version": "1.2.0",
            "_view_name": "LayoutView",
            "align_content": null,
            "align_items": null,
            "align_self": null,
            "border": null,
            "bottom": null,
            "display": null,
            "flex": null,
            "flex_flow": null,
            "grid_area": null,
            "grid_auto_columns": null,
            "grid_auto_flow": null,
            "grid_auto_rows": null,
            "grid_column": null,
            "grid_gap": null,
            "grid_row": null,
            "grid_template_areas": null,
            "grid_template_columns": null,
            "grid_template_rows": null,
            "height": null,
            "justify_content": null,
            "justify_items": null,
            "left": null,
            "margin": null,
            "max_height": null,
            "max_width": null,
            "min_height": null,
            "min_width": null,
            "object_fit": null,
            "object_position": null,
            "order": null,
            "overflow": null,
            "overflow_x": null,
            "overflow_y": null,
            "padding": null,
            "right": null,
            "top": null,
            "visibility": null,
            "width": null
          }
        },
        "849b552d51bb4a2ea21fcf60a0dc4bee": {
          "model_module": "@jupyter-widgets/controls",
          "model_name": "DescriptionStyleModel",
          "model_module_version": "1.5.0",
          "state": {
            "_model_module": "@jupyter-widgets/controls",
            "_model_module_version": "1.5.0",
            "_model_name": "DescriptionStyleModel",
            "_view_count": null,
            "_view_module": "@jupyter-widgets/base",
            "_view_module_version": "1.2.0",
            "_view_name": "StyleView",
            "description_width": ""
          }
        },
        "a89f687db2794079bf32a7029e511d52": {
          "model_module": "@jupyter-widgets/controls",
          "model_name": "ButtonModel",
          "model_module_version": "1.5.0",
          "state": {
            "_dom_classes": [],
            "_model_module": "@jupyter-widgets/controls",
            "_model_module_version": "1.5.0",
            "_model_name": "ButtonModel",
            "_view_count": null,
            "_view_module": "@jupyter-widgets/controls",
            "_view_module_version": "1.5.0",
            "_view_name": "ButtonView",
            "button_style": "primary",
            "description": "Calculate",
            "disabled": false,
            "icon": "",
            "layout": "IPY_MODEL_8e96393936ea4d138cb345f5b0563b21",
            "style": "IPY_MODEL_a41677a8747f44dc884af5eb823a2dbe",
            "tooltip": ""
          }
        },
        "8e96393936ea4d138cb345f5b0563b21": {
          "model_module": "@jupyter-widgets/base",
          "model_name": "LayoutModel",
          "model_module_version": "1.2.0",
          "state": {
            "_model_module": "@jupyter-widgets/base",
            "_model_module_version": "1.2.0",
            "_model_name": "LayoutModel",
            "_view_count": null,
            "_view_module": "@jupyter-widgets/base",
            "_view_module_version": "1.2.0",
            "_view_name": "LayoutView",
            "align_content": null,
            "align_items": null,
            "align_self": null,
            "border": null,
            "bottom": null,
            "display": null,
            "flex": null,
            "flex_flow": null,
            "grid_area": null,
            "grid_auto_columns": null,
            "grid_auto_flow": null,
            "grid_auto_rows": null,
            "grid_column": null,
            "grid_gap": null,
            "grid_row": null,
            "grid_template_areas": null,
            "grid_template_columns": null,
            "grid_template_rows": null,
            "height": null,
            "justify_content": null,
            "justify_items": null,
            "left": null,
            "margin": null,
            "max_height": null,
            "max_width": null,
            "min_height": null,
            "min_width": null,
            "object_fit": null,
            "object_position": null,
            "order": null,
            "overflow": null,
            "overflow_x": null,
            "overflow_y": null,
            "padding": null,
            "right": null,
            "top": null,
            "visibility": null,
            "width": null
          }
        },
        "a41677a8747f44dc884af5eb823a2dbe": {
          "model_module": "@jupyter-widgets/controls",
          "model_name": "ButtonStyleModel",
          "model_module_version": "1.5.0",
          "state": {
            "_model_module": "@jupyter-widgets/controls",
            "_model_module_version": "1.5.0",
            "_model_name": "ButtonStyleModel",
            "_view_count": null,
            "_view_module": "@jupyter-widgets/base",
            "_view_module_version": "1.2.0",
            "_view_name": "StyleView",
            "button_color": null,
            "font_weight": ""
          }
        }
      }
    }
  },
  "cells": [
    {
      "cell_type": "markdown",
      "metadata": {
        "id": "view-in-github",
        "colab_type": "text"
      },
      "source": [
        "<a href=\"https://colab.research.google.com/github/dakshitas/BlackScholes/blob/main/BSM_Calculator.ipynb\" target=\"_parent\"><img src=\"https://colab.research.google.com/assets/colab-badge.svg\" alt=\"Open In Colab\"/></a>"
      ]
    },
    {
      "cell_type": "code",
      "execution_count": 5,
      "metadata": {
        "id": "arRr2CcJpxvL"
      },
      "outputs": [],
      "source": [
        "import numpy as np\n",
        "import pandas as pd\n",
        "import ipywidgets as widgets\n",
        "from IPython.display import display, HTML\n",
        "from alpha_vantage.timeseries import TimeSeries\n",
        "from scipy.stats import norm\n",
        "from datetime import datetime, date\n",
        "import time"
      ]
    },
    {
      "cell_type": "code",
      "source": [
        "ALPHA_VANTAGE_API_KEY = \"P2TQ5YPY8ZUDAMT7\"\n",
        "ts = TimeSeries(key=ALPHA_VANTAGE_API_KEY, output_format=\"pandas\")\n",
        "\n",
        "TODAY = datetime(2025, 2, 20)\n",
        "risk_free_rate = 0.0495  # 10-Year Treasury Yield\n",
        "\n",
        "def get_volatility(ticker):\n",
        "    try:\n",
        "        data, meta_data = ts.get_daily(symbol=ticker, outputsize=\"full\")\n",
        "        data = data.sort_index()\n",
        "        data = data.iloc[-252:]\n",
        "        returns = data[\"4. close\"].pct_change().dropna()\n",
        "        return returns.std() * np.sqrt(252)  # Annualized volatility\n",
        "    except Exception as e:\n",
        "        return None\n",
        "\n",
        "# Function to fetch latest stock price\n",
        "def get_stock_price(ticker):\n",
        "    try:\n",
        "        data, meta_data = ts.get_quote_endpoint(symbol=ticker)\n",
        "        return float(data[\"05. price\"].iloc[0])  # Fix: Use .iloc[0]\n",
        "    except Exception as e:\n",
        "        return None\n",
        "\n",
        "# Black-Scholes Model\n",
        "def black_scholes_model(S, K, T, r, sigma, option_type):\n",
        "    d1 = (np.log(S / K) + (r + 0.5 * sigma ** 2) * T) / (sigma * np.sqrt(T))\n",
        "    d2 = d1 - sigma * np.sqrt(T)\n",
        "\n",
        "    if option_type == \"call\":\n",
        "        price = S * norm.cdf(d1) - K * np.exp(-r * T) * norm.cdf(d2)\n",
        "    elif option_type == \"put\":\n",
        "        price = K * np.exp(-r * T) * norm.cdf(-d2) - S * norm.cdf(-d1)\n",
        "    else:\n",
        "        raise ValueError(\"option_type must be 'call' or 'put'\")\n",
        "\n",
        "    return np.round(price, 3)\n",
        "\n",
        "ticker_select = widgets.Combobox(\n",
        "    options=[\"AAPL\", \"MSFT\", \"JNJ\", \"GOOGL\", \"TSLA\"],\n",
        "    description=\"Ticker:\",\n",
        "    placeholder=\"Enter ticker\"\n",
        ")\n",
        "\n",
        "maturity_picker = widgets.DatePicker(\n",
        "    description=\"Maturity:\"\n",
        ")\n",
        "\n",
        "strike_input = widgets.FloatText(\n",
        "    description=\"Strike Price:\",\n",
        "    value=250\n",
        ")\n",
        "\n",
        "option_type_radio = widgets.RadioButtons(\n",
        "    options=[\"call\", \"put\"],\n",
        "    description=\"Option Type:\"\n",
        ")\n",
        "\n",
        "calculate_btn = widgets.Button(\n",
        "    description=\"Calculate\",\n",
        "    button_style=\"primary\"\n",
        ")\n",
        "\n",
        "def on_calculate_click(b):\n",
        "    try:\n",
        "        ticker = ticker_select.value\n",
        "        if not ticker:\n",
        "            display(HTML(\"<div style='color: red;'>Please enter a valid ticker!</div>\"))\n",
        "            return\n",
        "\n",
        "        sigma = get_volatility(ticker)\n",
        "        S = get_stock_price(ticker)\n",
        "\n",
        "        if sigma is None or S is None:\n",
        "            display(HTML(f\"<div style='color: red;'>Failed to retrieve data for {ticker}. Try again later.</div>\"))\n",
        "            return\n",
        "\n",
        "        K = strike_input.value\n",
        "        maturity_date = maturity_picker.value\n",
        "\n",
        "        if maturity_date is None:\n",
        "            display(HTML(\"<div style='color: red;'>Please select a valid expiration date.</div>\"))\n",
        "            return\n",
        "\n",
        "        # Fix: Convert datetime.date to datetime.datetime\n",
        "        maturity_date = datetime.combine(maturity_date, datetime.min.time())\n",
        "\n",
        "        if maturity_date <= TODAY:\n",
        "            display(HTML(\"<div style='color: red;'>Maturity date must be in the future.</div>\"))\n",
        "            return\n",
        "\n",
        "        T = (maturity_date - TODAY).days / 252  # Convert days to years\n",
        "        r = risk_free_rate\n",
        "        option_type = option_type_radio.value\n",
        "\n",
        "        option_price = black_scholes_model(S, K, T, r, sigma, option_type)\n",
        "\n",
        "        result_html = f\"\"\"\n",
        "        <div style='color: green; font-weight: bold;'>\n",
        "            Black-Scholes {option_type} option price for {ticker}: ${option_price}\n",
        "        </div>\n",
        "        \"\"\"\n",
        "        display(HTML(result_html))\n",
        "\n",
        "    except Exception as e:\n",
        "        display(HTML(f\"<div style='color: red;'>Error: {e}</div>\"))\n",
        "\n",
        "calculate_btn.on_click(on_calculate_click)\n",
        "\n",
        "display(ticker_select, maturity_picker, strike_input, option_type_radio, calculate_btn)"
      ],
      "metadata": {
        "colab": {
          "base_uri": "https://localhost:8080/",
          "height": 220,
          "referenced_widgets": [
            "6304716bd7184fe4bc5dc73d26b4c842",
            "01ed2e6a5ec54f70b884a7538b0ac346",
            "072a68e89a7d41b7b2bea6b8203d8c64",
            "14567d105e484d6795129c66f70f2f4c",
            "76745c9b26ba486c8912d773a54a606b",
            "3b81a2d0287648f5b793beb10f88a43d",
            "1c74eb5111d444578d541210edf954dd",
            "91a462d183d945319c41f6bf0d32740c",
            "e93fbd732db14ad0ab249a1c30500122",
            "ef7c628e2c7d4a6bb7bc79777de94c23",
            "998c26d392424a849da4e04657454b68",
            "849b552d51bb4a2ea21fcf60a0dc4bee",
            "a89f687db2794079bf32a7029e511d52",
            "8e96393936ea4d138cb345f5b0563b21",
            "a41677a8747f44dc884af5eb823a2dbe"
          ]
        },
        "id": "J8BqDDQZqB7e",
        "outputId": "37317b81-aa12-45a9-b0fd-7311c32e070d"
      },
      "execution_count": 7,
      "outputs": [
        {
          "output_type": "display_data",
          "data": {
            "text/plain": [
              "Combobox(value='', description='Ticker:', options=('AAPL', 'MSFT', 'JNJ', 'GOOGL', 'TSLA'), placeholder='Enter…"
            ],
            "application/vnd.jupyter.widget-view+json": {
              "version_major": 2,
              "version_minor": 0,
              "model_id": "6304716bd7184fe4bc5dc73d26b4c842"
            }
          },
          "metadata": {}
        },
        {
          "output_type": "display_data",
          "data": {
            "text/plain": [
              "DatePicker(value=None, description='Maturity:')"
            ],
            "application/vnd.jupyter.widget-view+json": {
              "version_major": 2,
              "version_minor": 0,
              "model_id": "14567d105e484d6795129c66f70f2f4c"
            }
          },
          "metadata": {}
        },
        {
          "output_type": "display_data",
          "data": {
            "text/plain": [
              "FloatText(value=250.0, description='Strike Price:')"
            ],
            "application/vnd.jupyter.widget-view+json": {
              "version_major": 2,
              "version_minor": 0,
              "model_id": "1c74eb5111d444578d541210edf954dd"
            }
          },
          "metadata": {}
        },
        {
          "output_type": "display_data",
          "data": {
            "text/plain": [
              "RadioButtons(description='Option Type:', options=('call', 'put'), value='call')"
            ],
            "application/vnd.jupyter.widget-view+json": {
              "version_major": 2,
              "version_minor": 0,
              "model_id": "ef7c628e2c7d4a6bb7bc79777de94c23"
            }
          },
          "metadata": {}
        },
        {
          "output_type": "display_data",
          "data": {
            "text/plain": [
              "Button(button_style='primary', description='Calculate', style=ButtonStyle())"
            ],
            "application/vnd.jupyter.widget-view+json": {
              "version_major": 2,
              "version_minor": 0,
              "model_id": "a89f687db2794079bf32a7029e511d52"
            }
          },
          "metadata": {}
        },
        {
          "output_type": "display_data",
          "data": {
            "text/plain": [
              "<IPython.core.display.HTML object>"
            ],
            "text/html": [
              "\n",
              "        <div style='color: green; font-weight: bold;'>\n",
              "            Black-Scholes call option price for TSLA: $107.052\n",
              "        </div>\n",
              "        "
            ]
          },
          "metadata": {}
        }
      ]
    }
  ]
}